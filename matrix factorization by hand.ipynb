{
 "cells": [
  {
   "cell_type": "markdown",
   "metadata": {},
   "source": [
    "## Building a Movie Recommendation Service "
   ]
  },
  {
   "cell_type": "markdown",
   "metadata": {},
   "source": [
    "### Part 1. Matrix factorization algorithm implement by hand"
   ]
  },
  {
   "cell_type": "markdown",
   "metadata": {},
   "source": [
    "#### load necessary packages"
   ]
  },
  {
   "cell_type": "code",
   "execution_count": 9,
   "metadata": {},
   "outputs": [],
   "source": [
    "import pandas as pd\n",
    "import numpy as np\n",
    "import sys, numpy as np\n",
    "from numpy import genfromtxt\n",
    "import codecs\n",
    "from numpy import linalg as LA"
   ]
  },
  {
   "cell_type": "markdown",
   "metadata": {},
   "source": [
    "#### load movie data and rating data"
   ]
  },
  {
   "cell_type": "code",
   "execution_count": 27,
   "metadata": {},
   "outputs": [],
   "source": [
    "movies=pd.read_csv(\"movies.csv\")\n",
    "ratings=pd.read_csv(\"ratings.csv\")"
   ]
  },
  {
   "cell_type": "code",
   "execution_count": 29,
   "metadata": {},
   "outputs": [
    {
     "data": {
      "text/html": [
       "<div>\n",
       "<style scoped>\n",
       "    .dataframe tbody tr th:only-of-type {\n",
       "        vertical-align: middle;\n",
       "    }\n",
       "\n",
       "    .dataframe tbody tr th {\n",
       "        vertical-align: top;\n",
       "    }\n",
       "\n",
       "    .dataframe thead th {\n",
       "        text-align: right;\n",
       "    }\n",
       "</style>\n",
       "<table border=\"1\" class=\"dataframe\">\n",
       "  <thead>\n",
       "    <tr style=\"text-align: right;\">\n",
       "      <th></th>\n",
       "      <th>movieId</th>\n",
       "      <th>title</th>\n",
       "      <th>genres</th>\n",
       "    </tr>\n",
       "  </thead>\n",
       "  <tbody>\n",
       "    <tr>\n",
       "      <th>0</th>\n",
       "      <td>1</td>\n",
       "      <td>Toy Story (1995)</td>\n",
       "      <td>Adventure|Animation|Children|Comedy|Fantasy</td>\n",
       "    </tr>\n",
       "    <tr>\n",
       "      <th>1</th>\n",
       "      <td>2</td>\n",
       "      <td>Jumanji (1995)</td>\n",
       "      <td>Adventure|Children|Fantasy</td>\n",
       "    </tr>\n",
       "    <tr>\n",
       "      <th>2</th>\n",
       "      <td>3</td>\n",
       "      <td>Grumpier Old Men (1995)</td>\n",
       "      <td>Comedy|Romance</td>\n",
       "    </tr>\n",
       "    <tr>\n",
       "      <th>3</th>\n",
       "      <td>4</td>\n",
       "      <td>Waiting to Exhale (1995)</td>\n",
       "      <td>Comedy|Drama|Romance</td>\n",
       "    </tr>\n",
       "    <tr>\n",
       "      <th>4</th>\n",
       "      <td>5</td>\n",
       "      <td>Father of the Bride Part II (1995)</td>\n",
       "      <td>Comedy</td>\n",
       "    </tr>\n",
       "  </tbody>\n",
       "</table>\n",
       "</div>"
      ],
      "text/plain": [
       "   movieId                               title  \\\n",
       "0        1                    Toy Story (1995)   \n",
       "1        2                      Jumanji (1995)   \n",
       "2        3             Grumpier Old Men (1995)   \n",
       "3        4            Waiting to Exhale (1995)   \n",
       "4        5  Father of the Bride Part II (1995)   \n",
       "\n",
       "                                        genres  \n",
       "0  Adventure|Animation|Children|Comedy|Fantasy  \n",
       "1                   Adventure|Children|Fantasy  \n",
       "2                               Comedy|Romance  \n",
       "3                         Comedy|Drama|Romance  \n",
       "4                                       Comedy  "
      ]
     },
     "execution_count": 29,
     "metadata": {},
     "output_type": "execute_result"
    }
   ],
   "source": [
    "movies.head()"
   ]
  },
  {
   "cell_type": "code",
   "execution_count": 28,
   "metadata": {},
   "outputs": [
    {
     "data": {
      "text/html": [
       "<div>\n",
       "<style scoped>\n",
       "    .dataframe tbody tr th:only-of-type {\n",
       "        vertical-align: middle;\n",
       "    }\n",
       "\n",
       "    .dataframe tbody tr th {\n",
       "        vertical-align: top;\n",
       "    }\n",
       "\n",
       "    .dataframe thead th {\n",
       "        text-align: right;\n",
       "    }\n",
       "</style>\n",
       "<table border=\"1\" class=\"dataframe\">\n",
       "  <thead>\n",
       "    <tr style=\"text-align: right;\">\n",
       "      <th></th>\n",
       "      <th>userId</th>\n",
       "      <th>movieId</th>\n",
       "      <th>rating</th>\n",
       "      <th>timestamp</th>\n",
       "    </tr>\n",
       "  </thead>\n",
       "  <tbody>\n",
       "    <tr>\n",
       "      <th>0</th>\n",
       "      <td>1</td>\n",
       "      <td>1</td>\n",
       "      <td>5.0</td>\n",
       "      <td>847117005</td>\n",
       "    </tr>\n",
       "    <tr>\n",
       "      <th>1</th>\n",
       "      <td>1</td>\n",
       "      <td>2</td>\n",
       "      <td>3.0</td>\n",
       "      <td>847642142</td>\n",
       "    </tr>\n",
       "    <tr>\n",
       "      <th>2</th>\n",
       "      <td>1</td>\n",
       "      <td>10</td>\n",
       "      <td>3.0</td>\n",
       "      <td>847641896</td>\n",
       "    </tr>\n",
       "    <tr>\n",
       "      <th>3</th>\n",
       "      <td>1</td>\n",
       "      <td>32</td>\n",
       "      <td>4.0</td>\n",
       "      <td>847642008</td>\n",
       "    </tr>\n",
       "    <tr>\n",
       "      <th>4</th>\n",
       "      <td>1</td>\n",
       "      <td>34</td>\n",
       "      <td>4.0</td>\n",
       "      <td>847641956</td>\n",
       "    </tr>\n",
       "  </tbody>\n",
       "</table>\n",
       "</div>"
      ],
      "text/plain": [
       "   userId  movieId  rating  timestamp\n",
       "0       1        1     5.0  847117005\n",
       "1       1        2     3.0  847642142\n",
       "2       1       10     3.0  847641896\n",
       "3       1       32     4.0  847642008\n",
       "4       1       34     4.0  847641956"
      ]
     },
     "execution_count": 28,
     "metadata": {},
     "output_type": "execute_result"
    }
   ],
   "source": [
    "ratings.head()"
   ]
  },
  {
   "cell_type": "markdown",
   "metadata": {},
   "source": [
    "Movie ids are not continuous, build movie dicitionary with line no as numpy movie id ,its actual movie id as the key."
   ]
  },
  {
   "cell_type": "code",
   "execution_count": 21,
   "metadata": {},
   "outputs": [],
   "source": [
    "def movie_dictionary(movies_file):\n",
    "    i = 0\n",
    "    movie_id_dict = {}\n",
    "    with codecs.open(movies_file, 'r', 'latin-1') as f:\n",
    "        for line in f:\n",
    "            if i == 0:\n",
    "                i = i+1\n",
    "            else:\n",
    "                movieId,title,genres = line.split(',')\n",
    "                movie_id_dict[int(movieId)] = i-1\n",
    "                i = i +1\n",
    "    return movie_id_dict"
   ]
  },
  {
   "cell_type": "markdown",
   "metadata": {},
   "source": [
    "Each line of i/p file represents one tag applied to one movie by one user,and has the following format: userId,movieId,tag,timestamp make sure you know the number of users and items for your dataset return the sparse matrix as a numpy array."
   ]
  },
  {
   "cell_type": "code",
   "execution_count": 22,
   "metadata": {},
   "outputs": [],
   "source": [
    "def read_data(input_file,movies_dict):\n",
    "    #no of users\n",
    "    users = 718\n",
    "    #users = 5\n",
    "    #no of movies\n",
    "    movies = 8927\n",
    "    #movies = 135887\n",
    "    X = np.zeros(shape=(users,movies))\n",
    "    i = 0\n",
    "    #X = genfromtxt(input_file, delimiter=\",\",dtype=str)\n",
    "    with open(input_file,'r') as f:\n",
    "        for line in f:\n",
    "            if i == 0:\n",
    "                i = i +1\n",
    "            else:\n",
    "                #print \"i is\",i\n",
    "                user,movie_id,rating,timestamp = line.split(',')\n",
    "                #get the movie id for the numpy array consrtruction\n",
    "                id = movies_dict[int(movie_id)]\n",
    "                #print \"user movie rating\",user, movie, rating, i\n",
    "                X[int(user)-1,id] = float(rating)\n",
    "                i = i+1\n",
    "    return X"
   ]
  },
  {
   "cell_type": "markdown",
   "metadata": {},
   "source": [
    "#### matrix factorization implementation\n",
    "\n",
    "X is the user-rate-movie matrix, it's very sparse. P, Q are user-feature matrix and movie-featuree matrix respectively. The objective is to use gradient descend method to find the P,Q where $P \\times Q$ approximates X."
   ]
  },
  {
   "cell_type": "code",
   "execution_count": 24,
   "metadata": {},
   "outputs": [],
   "source": [
    "def matrix_factorization(X,P,Q,K,steps,alpha,beta):\n",
    "    Q = Q.T\n",
    "    for step in xrange(steps):\n",
    "        print (step)\n",
    "        #for each user\n",
    "        for i in xrange(X.shape[0]):\n",
    "            #for each item\n",
    "            for j in xrange(X.shape[1]):\n",
    "                if X[i][j] > 0 :\n",
    "\n",
    "                    #calculate the error of the element\n",
    "                    eij = X[i][j] - np.dot(P[i,:],Q[:,j])\n",
    "                    #second norm of P and Q for regularilization\n",
    "                    sum_of_norms = 0\n",
    "                    #for k in xrange(K):\n",
    "                    #    sum_of_norms += LA.norm(P[:,k]) + LA.norm(Q[k,:])\n",
    "                    #added regularized term to the error\n",
    "                    sum_of_norms += LA.norm(P) + LA.norm(Q)\n",
    "                    #print sum_of_norms\n",
    "                    eij += ((beta/2) * sum_of_norms)\n",
    "                    #print eij\n",
    "                    #compute the gradient from the error\n",
    "                    for k in xrange(K):\n",
    "                        P[i][k] = P[i][k] + alpha * ( 2 * eij * Q[k][j] - (beta * P[i][k]))\n",
    "                        Q[k][j] = Q[k][j] + alpha * (2 * eij * P[i][k] - (beta * Q[k][j]))\n",
    "\n",
    "        #compute total error\n",
    "        error = 0\n",
    "        #for each user\n",
    "        for i in xrange(X.shape[0]):\n",
    "            #for each item\n",
    "            for j in xrange(X.shape[1]):\n",
    "                if X[i][j] > 0:\n",
    "                    error += np.power(X[i][j] - np.dot(P[i,:],Q[:,j]),2)\n",
    "        if error < 0.001:\n",
    "            break\n",
    "    return P, Q.T"
   ]
  },
  {
   "cell_type": "markdown",
   "metadata": {},
   "source": [
    "#### main function"
   ]
  },
  {
   "cell_type": "code",
   "execution_count": 25,
   "metadata": {},
   "outputs": [],
   "source": [
    "def main(X,K):\n",
    "    #no of users\n",
    "    N= X.shape[0]\n",
    "    #no of movies\n",
    "    M = X.shape[1]\n",
    "    #P: an initial matrix of dimension N x K, where is n is no of users and k is hidden latent features\n",
    "    P = np.random.rand(N,K)\n",
    "    #Q : an initial matrix of dimension M x K, where M is no of movies and K is hidden latent features\n",
    "    Q = np.random.rand(M,K)\n",
    "    #steps : the maximum number of steps to perform the optimisation, hardcoding the values\n",
    "    #alpha : the learning rate, hardcoding the values\n",
    "    #beta  : the regularization parameter, hardcoding the values\n",
    "    steps = 5000\n",
    "    alpha = 0.0002\n",
    "    beta = float(0.02)\n",
    "    estimated_P, estimated_Q = matrix_factorization(X,P,Q,K,steps,alpha,beta)\n",
    "    #Predicted numpy array of users and movie ratings\n",
    "    modeled_X = np.dot(estimated_P,estimated_Q.T)\n",
    "    np.savetxt('mf_result.txt', modeled_X, delimiter=',')"
   ]
  },
  {
   "cell_type": "code",
   "execution_count": 26,
   "metadata": {},
   "outputs": [],
   "source": [
    "if __name__ == '__main__':\n",
    "    #MatrixFactorization.py <rating file>  <no of hidden features>  <movie mapping file>\n",
    "    if len(sys.argv) == 4:\n",
    "        ratings_file =  sys.argv[1]\n",
    "        no_of_features = int(sys.argv[2])\n",
    "        movies_mapping_file = sys.argv[3]\n",
    "\n",
    "        #build a dictionary of movie id mapping with counter of no of movies\n",
    "        movies_dict = build_movies_dict(movies_mapping_file)\n",
    "        #read data and return a numpy array\n",
    "        numpy_arr = read_data(ratings_file,movies_dict)\n",
    "        #main function\n",
    "        main(numpy_arr,no_of_features)"
   ]
  },
  {
   "cell_type": "markdown",
   "metadata": {},
   "source": [
    "#### recommend movies for users who have rated some of the movies\n",
    "recommend 50 tops movies for each user based on his/her unrated movies. Implemented this seperately from building model as once the model is built, we can use it many times."
   ]
  },
  {
   "cell_type": "code",
   "execution_count": 33,
   "metadata": {},
   "outputs": [],
   "source": [
    "def dict_with_user_unrated_movies(rating_file,movie_mapping_id):\n",
    "    #no of users\n",
    "    users = 718\n",
    "    #users = 5\n",
    "    #no of movie ids\n",
    "    #movies = 4\n",
    "    movies = 8927\n",
    "    dict_with_unrated_movies_users ={}\n",
    "    X = np.zeros(shape=(users,movies))\n",
    "    i = 0\n",
    "    with open(rating_file,'r') as f:\n",
    "        for line in f:\n",
    "            if i == 0:\n",
    "                i = i +1\n",
    "            else:\n",
    "                user,movie,rating,timestamp = line.split(',')\n",
    "                id = movie_mapping_id[int(movie)]\n",
    "                #print \"user movie rating\",user, movie, rating, i\n",
    "                X[int(user)-1,id] = float(rating)\n",
    "                i = i+1\n",
    "    #print X\n",
    "    for row in xrange(X.shape[0]):\n",
    "        unrated_movi_ids = np.nonzero(X[row] == 0)\n",
    "        #print \"user\",row+1, \"has unrated movies\", list(unrated_movi_ids[0])\n",
    "        unrated_movi_ids = list(unrated_movi_ids[0])\n",
    "        unrated_movi_ids = map(lambda x: x+1,unrated_movi_ids)\n",
    "        dict_with_unrated_movies_users[row+1] = unrated_movi_ids\n",
    "    #print \"dict with unrated movies\",dict_with_unrated_movies_users\n",
    "    return dict_with_unrated_movies_users\n",
    "\n",
    "\n",
    "#recommend top 25 movies for user specified\n",
    "def top_25_recommended_movies(pred_rating_file,users,unrated_movies_per_user,movies_mapping_names,movie_mapping_id):\n",
    "    #dicitonary with numpy movie id as key and actual movie id as value\n",
    "    reverse_movie_id_mapping = {}\n",
    "    for key,val in movie_mapping_id.items():\n",
    "        reverse_movie_id_mapping[val] = key\n",
    "    #for each user, predict top 25 movies\n",
    "    for user in users:\n",
    "        dict_pred_unrated_movies = {}\n",
    "        unrated_movies = unrated_movies_per_user[int(user)]\n",
    "        for unrated_movie in unrated_movies:\n",
    "            dict_pred_unrated_movies[int(unrated_movie)] = pred_rating_file[int(user)-1][int(unrated_movie)-1]\n",
    "        #recommend top k movies\n",
    "        SortedMovies = sorted(dict_pred_unrated_movies.iteritems(), key=operator.itemgetter(1), reverse=True)\n",
    "        print (\"Top 25 movies recommendation for the user\", user)\n",
    "        for i in range(25):\n",
    "            movie_id, rating = SortedMovies[i]\n",
    "            actual_movie_id = reverse_movie_id_mapping[movie_id]\n",
    "            #recommend movies only if the predicted rating is greater than 3.5\n",
    "            if rating >= 3.5 :\n",
    "                print (\"{} \".format(movie))\n",
    "            #print (\"{} with Movie rating value {}\".format(movies_mapping_names[actual_movie_id],rating))\n",
    "        print (\"\\n\")\n",
    "\n",
    "#main method\n",
    "def recommend_movies_for_users(orig_rating_file,pred_rating_file,movies_file,users):\n",
    "    #method to get the mapping between movie names, actual movie id and numpy movie id\n",
    "    movies_mapping_names,movie_mapping_id = dict_with_movie_and_id(movies_file)\n",
    "    #build predicted numpy movie id from the saved predicted matrix of user and movie ratings\n",
    "    predicted_rating_numpy_array = build_predicted_numpy_array(pred_rating_file)\n",
    "    #dictionary of unrated movies for each user\n",
    "    dict_with_unrated_movies_users = dict_with_user_unrated_movies(orig_rating_file,movie_mapping_id)\n",
    "    #method which actually recommends top 25 unrated movies based on their the predicted score\n",
    "    top_25_recommended_movies(predicted_rating_numpy_array,users,dict_with_unrated_movies_users,movies_mapping_names,movie_mapping_id)\n",
    "\n",
    "if __name__ == '__main__':\n",
    "    if len(sys.argv) == 5:\n",
    "        #read the rating file for the missing\n",
    "        orig_rating_file = sys.argv[1]\n",
    "        pred_rating_file = sys.argv[2]\n",
    "        movies_file = sys.argv[3]\n",
    "        list_of_users = sys.argv[4]\n",
    "        with open (list_of_users,'r') as f:\n",
    "          users = f.readline().split(',')\n",
    "        recommend_movies_for_users(orig_rating_file,pred_rating_file,movies_file,users)"
   ]
  }
 ],
 "metadata": {
  "kernelspec": {
   "display_name": "Python 3",
   "language": "python",
   "name": "python3"
  },
  "language_info": {
   "codemirror_mode": {
    "name": "ipython",
    "version": 3
   },
   "file_extension": ".py",
   "mimetype": "text/x-python",
   "name": "python",
   "nbconvert_exporter": "python",
   "pygments_lexer": "ipython3",
   "version": "3.7.1"
  }
 },
 "nbformat": 4,
 "nbformat_minor": 2
}
